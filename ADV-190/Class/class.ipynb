{
 "cells": [
  {
   "cell_type": "code",
   "execution_count": null,
   "metadata": {},
   "outputs": [],
   "source": [
    "print(\"Name :\")\n",
    "print(\"We will start learning about data visualization, and fetching the data\")\n",
    "print(\"Plot bar graphs for the countries who has the highest and lowest number of satellites in space\")"
   ]
  },
  {
   "cell_type": "code",
   "execution_count": null,
   "metadata": {},
   "outputs": [],
   "source": [
    "#Activity 1 \n",
    "#Q - Plot a bar graph for top 5 Country/Organization who has the most number of Satellites In Space\n",
    "\n",
    "import  numpy as np\n",
    "import pandas as pd\n",
    "from matplotlib import pyplot as plt\n",
    "\n",
    "dataframe = pd.read_csv('country_satellites.csv')\n",
    "\n",
    "top_5 = dataframe.head(5)\n",
    "print(top_5)\n",
    "name = top_5['Country/Organization Name']\n",
    "number = top_5['Satellites In Orbit']\n",
    "\n",
    "\n",
    "plt.xlabel(\"Country/Organization Name\")\n",
    "plt.xticks(rotation='vertical')\n",
    "plt.ylabel(\"Satellites In Orbit\")\n",
    "\n",
    "\n",
    "label = name\n",
    "value = number \n",
    "plt.bar(label, value,width=0.4, color=('red','blue','green','pink','yellow')) #bar-graph\n",
    "\n"
   ]
  },
  {
   "cell_type": "code",
   "execution_count": null,
   "metadata": {},
   "outputs": [],
   "source": [
    "#Activity 2\n",
    "#Q - Plot a bar graph for 20 Country/Organization who has the least number of Satellites In Space\n",
    "import  numpy as np\n",
    "import pandas as pd\n",
    "from matplotlib import pyplot as plt\n",
    "\n",
    "dataframe = pd.read_csv('country_satellites.csv').dropna()\n",
    "\n",
    "top_5 = dataframe.tail(20)\n",
    "print(top_5)\n",
    "name = top_5['Country/Organization Name']\n",
    "number = top_5['Satellites In Orbit']\n",
    "\n",
    "\n",
    "plt.xlabel(\"Country/Organization Name\")\n",
    "plt.xticks(rotation='vertical')\n",
    "plt.ylabel(\"Satellites In Orbit\")\n",
    "\n",
    "\n",
    "label = name\n",
    "value = number \n",
    "plt.bar(label, value,width=0.4, color=('red','blue','green','pink','yellow'))"
   ]
  },
  {
   "cell_type": "code",
   "execution_count": null,
   "metadata": {},
   "outputs": [],
   "source": []
  },
  {
   "cell_type": "code",
   "execution_count": null,
   "metadata": {},
   "outputs": [],
   "source": []
  },
  {
   "cell_type": "code",
   "execution_count": null,
   "metadata": {},
   "outputs": [],
   "source": []
  },
  {
   "cell_type": "code",
   "execution_count": null,
   "metadata": {},
   "outputs": [],
   "source": []
  }
 ],
 "metadata": {
  "kernelspec": {
   "display_name": "Python 3.9.7 ('base')",
   "language": "python",
   "name": "python3"
  },
  "language_info": {
   "codemirror_mode": {
    "name": "ipython",
    "version": 3
   },
   "file_extension": ".py",
   "mimetype": "text/x-python",
   "name": "python",
   "nbconvert_exporter": "python",
   "pygments_lexer": "ipython3",
   "version": "3.9.7"
  },
  "vscode": {
   "interpreter": {
    "hash": "566c25b97f9cdefed74ad9497f4da51d65cb3a2a9dcbc57b2f542f6b619641a7"
   }
  }
 },
 "nbformat": 4,
 "nbformat_minor": 4
}
