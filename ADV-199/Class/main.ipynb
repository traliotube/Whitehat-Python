{
 "cells": [
  {
   "cell_type": "code",
   "execution_count": null,
   "metadata": {},
   "outputs": [],
   "source": [
    "print(\"Name : \")\n",
    "print(\"We will be learning how to create a application on jupyter which has GUI elements and how to manipulate the output as per the values selected from the GUI components\")"
   ]
  },
  {
   "attachments": {},
   "cell_type": "markdown",
   "metadata": {},
   "source": [
    "# Code for GUI components and manipulating the output"
   ]
  },
  {
   "cell_type": "code",
   "execution_count": null,
   "metadata": {},
   "outputs": [],
   "source": [
    "from ipywidgets import widgets\n",
    "import IPython.display\n",
    "import pandas as pd\n",
    "import matplotlib.pyplot as plt \n",
    "from ipyfilechooser import FileChooser\n",
    "\n",
    "graphType = ['Choose one.. ','line','bar']\n",
    "df = ''\n",
    "def selectFiles(b):\n",
    "    IPython.display.clear_output()\n",
    "    global graphType\n",
    "    global df\n",
    "    df = pd.read_csv(fc.selected)\n",
    "    print(fc.selected)\n",
    "    xlabelWidget = widgets.Dropdown(options = df.columns)\n",
    "    ylabelWidget = widgets.Dropdown(options = df.columns)\n",
    "    graphWidget = widgets.Dropdown(options = graphType)\n",
    "    graph = widgets.interactive(displayPlot, xaxis=xlabelWidget, yaxis= ylabelWidget, graphType = graphWidget)\n",
    "    IPython.display.display(graph)\n",
    "\n",
    "def displayPlot(xaxis, yaxis, graphType):\n",
    "    global df\n",
    "    if(graphType == 'line'):\n",
    "        plt.subplots(figsize=(19,8))\n",
    "        plt.plot(df[xaxis], df[yaxis], linewidth=3.0)\n",
    "        plt.xlabel(xaxis)\n",
    "        plt.ylabel(yaxis)\n",
    "        plt.show()\n",
    "    elif(graphType == 'bar'):\n",
    "        plt.subplots(figsize=(19,8))\n",
    "        plt.bar(df[xaxis], df[yaxis], color=['red', 'green','blue','yellow','pink'])\n",
    "        plt.xlabel(xaxis)\n",
    "        plt.xticks(rotation='vertical')\n",
    "        plt.ylabel(yaxis)\n",
    "        plt.show()\n",
    "    else:\n",
    "        print(\"Choose valid graph\")\n",
    "\n",
    "\n",
    "fc = FileChooser()\n",
    "fc.register_callback(selectFiles)\n",
    "IPython.display.display(fc)"
   ]
  },
  {
   "cell_type": "code",
   "execution_count": null,
   "metadata": {},
   "outputs": [],
   "source": []
  }
 ],
 "metadata": {
  "kernelspec": {
   "display_name": "base",
   "language": "python",
   "name": "python3"
  },
  "language_info": {
   "codemirror_mode": {
    "name": "ipython",
    "version": 3
   },
   "file_extension": ".py",
   "mimetype": "text/x-python",
   "name": "python",
   "nbconvert_exporter": "python",
   "pygments_lexer": "ipython3",
   "version": "3.9.7"
  },
  "vscode": {
   "interpreter": {
    "hash": "566c25b97f9cdefed74ad9497f4da51d65cb3a2a9dcbc57b2f542f6b619641a7"
   }
  }
 },
 "nbformat": 4,
 "nbformat_minor": 4
}
